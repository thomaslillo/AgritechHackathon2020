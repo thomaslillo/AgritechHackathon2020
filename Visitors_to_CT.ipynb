{
 "cells": [
  {
   "cell_type": "markdown",
   "metadata": {},
   "source": [
    "# Preparing Data for Example Dashboard\n",
    "\n",
    "Steps:\n",
    "- import postal code file and park point\n",
    "- calculate distances and visitor counts\n",
    "- output sudo visitor count file with postal code points and DA info to join in QGIS"
   ]
  },
  {
   "cell_type": "code",
   "execution_count": 63,
   "metadata": {},
   "outputs": [
    {
     "output_type": "execute_result",
     "data": {
      "text/plain": [
       "['ONPostalPts', 'Park Point', 'park_latlng.csv', 'VisitorPoints']"
      ]
     },
     "metadata": {},
     "execution_count": 63
    }
   ],
   "source": [
    "import geopandas as gpd\n",
    "import pandas as pd\n",
    "import os\n",
    "\n",
    "# --> update the location of the file here <--\n",
    "datafiles = \"C:\\\\Users\\\\Neptune\\\\Documents\\\\Coding\\\\Projects\\\\Agritech 2020\\\\Data\"\n",
    "\n",
    "# get a list of the contents of the data folder\n",
    "os.listdir(datafiles)"
   ]
  },
  {
   "cell_type": "code",
   "execution_count": 74,
   "metadata": {},
   "outputs": [
    {
     "output_type": "execute_result",
     "data": {
      "text/plain": [
       "                                                   0  \\\n",
       "POSTALCODE                                    L0R1B0   \n",
       "POST_CODE                                    L0R 1B0   \n",
       "PROV                                              ON   \n",
       "PROV_CODE                                         35   \n",
       "PRFEDEA                                     35042020   \n",
       "PRCDDA                                      35260299   \n",
       "PRCD                                            3526   \n",
       "PRCDCSD                                      3526057   \n",
       "CSD_NAME                                     Lincoln   \n",
       "CSD_TYPE                                           T   \n",
       "CCS                                              057   \n",
       "CMA                                              539   \n",
       "CMA_TYPE                                           1   \n",
       "CT_NAME                                   5390242.01   \n",
       "ER                                                50   \n",
       "DPL                                                0   \n",
       "FED03                                          35055   \n",
       "FED96                                          35019   \n",
       "FED87                                          35042   \n",
       "DA_URB_RUR                                         2   \n",
       "PCTYPE                                             3   \n",
       "COMM_NAME                                 BEAMSVILLE   \n",
       "DMT                                                W   \n",
       "H_DMT                                              W   \n",
       "BIRTH_DATE                                  19830401   \n",
       "RET_DATE                                    19000001   \n",
       "POP96                                           1684   \n",
       "DWELL96                                          641   \n",
       "POSITION                                           1   \n",
       "LONGITUDE                                   -79.4764   \n",
       "LATITUDE                                     43.1658   \n",
       "geometry    (POINT (-79.47637415999999 43.16585004))   \n",
       "\n",
       "                                                   1  \\\n",
       "POSTALCODE                                    L0R1B1   \n",
       "POST_CODE                                    L0R 1B1   \n",
       "PROV                                              ON   \n",
       "PROV_CODE                                         35   \n",
       "PRFEDEA                                     35042001   \n",
       "PRCDDA                                      35260359   \n",
       "PRCD                                            3526   \n",
       "PRCDCSD                                      3526057   \n",
       "CSD_NAME                                     Lincoln   \n",
       "CSD_TYPE                                           T   \n",
       "CCS                                              057   \n",
       "CMA                                              539   \n",
       "CMA_TYPE                                           1   \n",
       "CT_NAME                                   5390240.00   \n",
       "ER                                                50   \n",
       "DPL                                                0   \n",
       "FED03                                          35055   \n",
       "FED96                                          35019   \n",
       "FED87                                          35042   \n",
       "DA_URB_RUR                                         5   \n",
       "PCTYPE                                             2   \n",
       "COMM_NAME                                 BEAMSVILLE   \n",
       "DMT                                                W   \n",
       "H_DMT                                              W   \n",
       "BIRTH_DATE                                  19900801   \n",
       "RET_DATE                                    19000001   \n",
       "POP96                                           1581   \n",
       "DWELL96                                          590   \n",
       "POSITION                                           1   \n",
       "LONGITUDE                                   -79.4277   \n",
       "LATITUDE                                     43.1976   \n",
       "geometry    (POINT (-79.42770791999999 43.19755596))   \n",
       "\n",
       "                                                   2  \\\n",
       "POSTALCODE                                    L0R1B2   \n",
       "POST_CODE                                    L0R 1B2   \n",
       "PROV                                              ON   \n",
       "PROV_CODE                                         35   \n",
       "PRFEDEA                                     35042011   \n",
       "PRCDDA                                      35260357   \n",
       "PRCD                                            3526   \n",
       "PRCDCSD                                      3526057   \n",
       "CSD_NAME                                     Lincoln   \n",
       "CSD_TYPE                                           T   \n",
       "CCS                                              057   \n",
       "CMA                                              539   \n",
       "CMA_TYPE                                           1   \n",
       "CT_NAME                                   5390241.00   \n",
       "ER                                                50   \n",
       "DPL                                                0   \n",
       "FED03                                          35055   \n",
       "FED96                                          35019   \n",
       "FED87                                          35042   \n",
       "DA_URB_RUR                                         5   \n",
       "PCTYPE                                             2   \n",
       "COMM_NAME                                 BEAMSVILLE   \n",
       "DMT                                                W   \n",
       "H_DMT                                              W   \n",
       "BIRTH_DATE                                  19900801   \n",
       "RET_DATE                                    19000001   \n",
       "POP96                                           1402   \n",
       "DWELL96                                          437   \n",
       "POSITION                                           1   \n",
       "LONGITUDE                                   -79.4536   \n",
       "LATITUDE                                     43.1264   \n",
       "geometry    (POINT (-79.45357607999999 43.12639899))   \n",
       "\n",
       "                                                   3  \\\n",
       "POSTALCODE                                    L0R1B3   \n",
       "POST_CODE                                    L0R 1B3   \n",
       "PROV                                              ON   \n",
       "PROV_CODE                                         35   \n",
       "PRFEDEA                                     35042053   \n",
       "PRCDDA                                      35260304   \n",
       "PRCD                                            3526   \n",
       "PRCDCSD                                      3526057   \n",
       "CSD_NAME                                     Lincoln   \n",
       "CSD_TYPE                                           T   \n",
       "CCS                                              057   \n",
       "CMA                                              539   \n",
       "CMA_TYPE                                           1   \n",
       "CT_NAME                                   5390242.01   \n",
       "ER                                                50   \n",
       "DPL                                                0   \n",
       "FED03                                          35055   \n",
       "FED96                                          35019   \n",
       "FED87                                          35042   \n",
       "DA_URB_RUR                                         5   \n",
       "PCTYPE                                             2   \n",
       "COMM_NAME                                 BEAMSVILLE   \n",
       "DMT                                                W   \n",
       "H_DMT                                              W   \n",
       "BIRTH_DATE                                  19900101   \n",
       "RET_DATE                                    19000001   \n",
       "POP96                                            783   \n",
       "DWELL96                                          252   \n",
       "POSITION                                           2   \n",
       "LONGITUDE                                   -79.5109   \n",
       "LATITUDE                                       43.19   \n",
       "geometry    (POINT (-79.51088195999999 43.18996797))   \n",
       "\n",
       "                                                   4  \n",
       "POSTALCODE                                    L0R1B4  \n",
       "POST_CODE                                    L0R 1B4  \n",
       "PROV                                              ON  \n",
       "PROV_CODE                                         35  \n",
       "PRFEDEA                                     35042020  \n",
       "PRCDDA                                      35260299  \n",
       "PRCD                                            3526  \n",
       "PRCDCSD                                      3526057  \n",
       "CSD_NAME                                     Lincoln  \n",
       "CSD_TYPE                                           T  \n",
       "CCS                                              057  \n",
       "CMA                                              539  \n",
       "CMA_TYPE                                           1  \n",
       "CT_NAME                                   5390242.01  \n",
       "ER                                                50  \n",
       "DPL                                                0  \n",
       "FED03                                          35055  \n",
       "FED96                                          35019  \n",
       "FED87                                          35042  \n",
       "DA_URB_RUR                                         2  \n",
       "PCTYPE                                             4  \n",
       "COMM_NAME                                 BEAMSVILLE  \n",
       "DMT                                                W  \n",
       "H_DMT                                              W  \n",
       "BIRTH_DATE                                  19900101  \n",
       "RET_DATE                                    19000001  \n",
       "POP96                                             12  \n",
       "DWELL96                                            2  \n",
       "POSITION                                           1  \n",
       "LONGITUDE                                   -79.4764  \n",
       "LATITUDE                                     43.1658  \n",
       "geometry    (POINT (-79.47637415999999 43.16585004))  "
      ],
      "text/html": "<div>\n<style scoped>\n    .dataframe tbody tr th:only-of-type {\n        vertical-align: middle;\n    }\n\n    .dataframe tbody tr th {\n        vertical-align: top;\n    }\n\n    .dataframe thead th {\n        text-align: right;\n    }\n</style>\n<table border=\"1\" class=\"dataframe\">\n  <thead>\n    <tr style=\"text-align: right;\">\n      <th></th>\n      <th>0</th>\n      <th>1</th>\n      <th>2</th>\n      <th>3</th>\n      <th>4</th>\n    </tr>\n  </thead>\n  <tbody>\n    <tr>\n      <th>POSTALCODE</th>\n      <td>L0R1B0</td>\n      <td>L0R1B1</td>\n      <td>L0R1B2</td>\n      <td>L0R1B3</td>\n      <td>L0R1B4</td>\n    </tr>\n    <tr>\n      <th>POST_CODE</th>\n      <td>L0R 1B0</td>\n      <td>L0R 1B1</td>\n      <td>L0R 1B2</td>\n      <td>L0R 1B3</td>\n      <td>L0R 1B4</td>\n    </tr>\n    <tr>\n      <th>PROV</th>\n      <td>ON</td>\n      <td>ON</td>\n      <td>ON</td>\n      <td>ON</td>\n      <td>ON</td>\n    </tr>\n    <tr>\n      <th>PROV_CODE</th>\n      <td>35</td>\n      <td>35</td>\n      <td>35</td>\n      <td>35</td>\n      <td>35</td>\n    </tr>\n    <tr>\n      <th>PRFEDEA</th>\n      <td>35042020</td>\n      <td>35042001</td>\n      <td>35042011</td>\n      <td>35042053</td>\n      <td>35042020</td>\n    </tr>\n    <tr>\n      <th>PRCDDA</th>\n      <td>35260299</td>\n      <td>35260359</td>\n      <td>35260357</td>\n      <td>35260304</td>\n      <td>35260299</td>\n    </tr>\n    <tr>\n      <th>PRCD</th>\n      <td>3526</td>\n      <td>3526</td>\n      <td>3526</td>\n      <td>3526</td>\n      <td>3526</td>\n    </tr>\n    <tr>\n      <th>PRCDCSD</th>\n      <td>3526057</td>\n      <td>3526057</td>\n      <td>3526057</td>\n      <td>3526057</td>\n      <td>3526057</td>\n    </tr>\n    <tr>\n      <th>CSD_NAME</th>\n      <td>Lincoln</td>\n      <td>Lincoln</td>\n      <td>Lincoln</td>\n      <td>Lincoln</td>\n      <td>Lincoln</td>\n    </tr>\n    <tr>\n      <th>CSD_TYPE</th>\n      <td>T</td>\n      <td>T</td>\n      <td>T</td>\n      <td>T</td>\n      <td>T</td>\n    </tr>\n    <tr>\n      <th>CCS</th>\n      <td>057</td>\n      <td>057</td>\n      <td>057</td>\n      <td>057</td>\n      <td>057</td>\n    </tr>\n    <tr>\n      <th>CMA</th>\n      <td>539</td>\n      <td>539</td>\n      <td>539</td>\n      <td>539</td>\n      <td>539</td>\n    </tr>\n    <tr>\n      <th>CMA_TYPE</th>\n      <td>1</td>\n      <td>1</td>\n      <td>1</td>\n      <td>1</td>\n      <td>1</td>\n    </tr>\n    <tr>\n      <th>CT_NAME</th>\n      <td>5390242.01</td>\n      <td>5390240.00</td>\n      <td>5390241.00</td>\n      <td>5390242.01</td>\n      <td>5390242.01</td>\n    </tr>\n    <tr>\n      <th>ER</th>\n      <td>50</td>\n      <td>50</td>\n      <td>50</td>\n      <td>50</td>\n      <td>50</td>\n    </tr>\n    <tr>\n      <th>DPL</th>\n      <td>0</td>\n      <td>0</td>\n      <td>0</td>\n      <td>0</td>\n      <td>0</td>\n    </tr>\n    <tr>\n      <th>FED03</th>\n      <td>35055</td>\n      <td>35055</td>\n      <td>35055</td>\n      <td>35055</td>\n      <td>35055</td>\n    </tr>\n    <tr>\n      <th>FED96</th>\n      <td>35019</td>\n      <td>35019</td>\n      <td>35019</td>\n      <td>35019</td>\n      <td>35019</td>\n    </tr>\n    <tr>\n      <th>FED87</th>\n      <td>35042</td>\n      <td>35042</td>\n      <td>35042</td>\n      <td>35042</td>\n      <td>35042</td>\n    </tr>\n    <tr>\n      <th>DA_URB_RUR</th>\n      <td>2</td>\n      <td>5</td>\n      <td>5</td>\n      <td>5</td>\n      <td>2</td>\n    </tr>\n    <tr>\n      <th>PCTYPE</th>\n      <td>3</td>\n      <td>2</td>\n      <td>2</td>\n      <td>2</td>\n      <td>4</td>\n    </tr>\n    <tr>\n      <th>COMM_NAME</th>\n      <td>BEAMSVILLE</td>\n      <td>BEAMSVILLE</td>\n      <td>BEAMSVILLE</td>\n      <td>BEAMSVILLE</td>\n      <td>BEAMSVILLE</td>\n    </tr>\n    <tr>\n      <th>DMT</th>\n      <td>W</td>\n      <td>W</td>\n      <td>W</td>\n      <td>W</td>\n      <td>W</td>\n    </tr>\n    <tr>\n      <th>H_DMT</th>\n      <td>W</td>\n      <td>W</td>\n      <td>W</td>\n      <td>W</td>\n      <td>W</td>\n    </tr>\n    <tr>\n      <th>BIRTH_DATE</th>\n      <td>19830401</td>\n      <td>19900801</td>\n      <td>19900801</td>\n      <td>19900101</td>\n      <td>19900101</td>\n    </tr>\n    <tr>\n      <th>RET_DATE</th>\n      <td>19000001</td>\n      <td>19000001</td>\n      <td>19000001</td>\n      <td>19000001</td>\n      <td>19000001</td>\n    </tr>\n    <tr>\n      <th>POP96</th>\n      <td>1684</td>\n      <td>1581</td>\n      <td>1402</td>\n      <td>783</td>\n      <td>12</td>\n    </tr>\n    <tr>\n      <th>DWELL96</th>\n      <td>641</td>\n      <td>590</td>\n      <td>437</td>\n      <td>252</td>\n      <td>2</td>\n    </tr>\n    <tr>\n      <th>POSITION</th>\n      <td>1</td>\n      <td>1</td>\n      <td>1</td>\n      <td>2</td>\n      <td>1</td>\n    </tr>\n    <tr>\n      <th>LONGITUDE</th>\n      <td>-79.4764</td>\n      <td>-79.4277</td>\n      <td>-79.4536</td>\n      <td>-79.5109</td>\n      <td>-79.4764</td>\n    </tr>\n    <tr>\n      <th>LATITUDE</th>\n      <td>43.1658</td>\n      <td>43.1976</td>\n      <td>43.1264</td>\n      <td>43.19</td>\n      <td>43.1658</td>\n    </tr>\n    <tr>\n      <th>geometry</th>\n      <td>(POINT (-79.47637415999999 43.16585004))</td>\n      <td>(POINT (-79.42770791999999 43.19755596))</td>\n      <td>(POINT (-79.45357607999999 43.12639899))</td>\n      <td>(POINT (-79.51088195999999 43.18996797))</td>\n      <td>(POINT (-79.47637415999999 43.16585004))</td>\n    </tr>\n  </tbody>\n</table>\n</div>"
     },
     "metadata": {},
     "execution_count": 74
    }
   ],
   "source": [
    "# bring in postal code file clipped to park \"trade area\" in QGIS\n",
    "on_postal = gpd.read_file(datafiles + \"\\\\VisitorPoints\\\\ParkVisitor_PostalCodePoints.shp\")\n",
    "\n",
    "# park location\n",
    "park_data = gpd.read_file(datafiles + \"\\\\Park Point\\\\CD_Park.shp\")\n",
    "\n",
    "# review the data from the point file - transposed to see all the names nicely\n",
    "on_postal.head().T"
   ]
  },
  {
   "cell_type": "code",
   "execution_count": 75,
   "metadata": {},
   "outputs": [
    {
     "output_type": "execute_result",
     "data": {
      "text/plain": [
       "   LONGITUDE   LATITUDE                         geometry POSTALCODE    PRCDDA\n",
       "0 -79.476374  43.165850  MULTIPOINT (-79.47637 43.16585)     L0R1B0  35260299\n",
       "1 -79.427708  43.197556  MULTIPOINT (-79.42771 43.19756)     L0R1B1  35260359\n",
       "2 -79.453576  43.126399  MULTIPOINT (-79.45358 43.12640)     L0R1B2  35260357\n",
       "3 -79.510882  43.189968  MULTIPOINT (-79.51088 43.18997)     L0R1B3  35260304\n",
       "4 -79.476374  43.165850  MULTIPOINT (-79.47637 43.16585)     L0R1B4  35260299"
      ],
      "text/html": "<div>\n<style scoped>\n    .dataframe tbody tr th:only-of-type {\n        vertical-align: middle;\n    }\n\n    .dataframe tbody tr th {\n        vertical-align: top;\n    }\n\n    .dataframe thead th {\n        text-align: right;\n    }\n</style>\n<table border=\"1\" class=\"dataframe\">\n  <thead>\n    <tr style=\"text-align: right;\">\n      <th></th>\n      <th>LONGITUDE</th>\n      <th>LATITUDE</th>\n      <th>geometry</th>\n      <th>POSTALCODE</th>\n      <th>PRCDDA</th>\n    </tr>\n  </thead>\n  <tbody>\n    <tr>\n      <th>0</th>\n      <td>-79.476374</td>\n      <td>43.165850</td>\n      <td>MULTIPOINT (-79.47637 43.16585)</td>\n      <td>L0R1B0</td>\n      <td>35260299</td>\n    </tr>\n    <tr>\n      <th>1</th>\n      <td>-79.427708</td>\n      <td>43.197556</td>\n      <td>MULTIPOINT (-79.42771 43.19756)</td>\n      <td>L0R1B1</td>\n      <td>35260359</td>\n    </tr>\n    <tr>\n      <th>2</th>\n      <td>-79.453576</td>\n      <td>43.126399</td>\n      <td>MULTIPOINT (-79.45358 43.12640)</td>\n      <td>L0R1B2</td>\n      <td>35260357</td>\n    </tr>\n    <tr>\n      <th>3</th>\n      <td>-79.510882</td>\n      <td>43.189968</td>\n      <td>MULTIPOINT (-79.51088 43.18997)</td>\n      <td>L0R1B3</td>\n      <td>35260304</td>\n    </tr>\n    <tr>\n      <th>4</th>\n      <td>-79.476374</td>\n      <td>43.165850</td>\n      <td>MULTIPOINT (-79.47637 43.16585)</td>\n      <td>L0R1B4</td>\n      <td>35260299</td>\n    </tr>\n  </tbody>\n</table>\n</div>"
     },
     "metadata": {},
     "execution_count": 75
    }
   ],
   "source": [
    "# fields I need for the analysis\n",
    "fields = {\"POSTALCODE\",\"PRCDDA\",\"LONGITUDE\",\"LATITUDE\",\"geometry\"}\n",
    "\n",
    "# cut the data and display\n",
    "data = on_postal[fields]\n",
    "data.head()"
   ]
  },
  {
   "source": [
    "### Distance Calcs & Visitors\n",
    "\n",
    "SUDO CODE:\n",
    "- append park point to all rows of postal code data frame\n",
    "- do distance calc \n",
    "- add visitor field with random base count\n",
    "- calculate new visitor values based on distance to park to create higher 'density' closer to park"
   ],
   "cell_type": "markdown",
   "metadata": {}
  },
  {
   "cell_type": "code",
   "execution_count": 97,
   "metadata": {},
   "outputs": [
    {
     "output_type": "execute_result",
     "data": {
      "text/plain": [
       "             Location        Lat        Lng                   ParkPoint\n",
       "0  Charles Daley Park  43.181278 -79.324305  POINT (-79.32430 43.18128)"
      ],
      "text/html": "<div>\n<style scoped>\n    .dataframe tbody tr th:only-of-type {\n        vertical-align: middle;\n    }\n\n    .dataframe tbody tr th {\n        vertical-align: top;\n    }\n\n    .dataframe thead th {\n        text-align: right;\n    }\n</style>\n<table border=\"1\" class=\"dataframe\">\n  <thead>\n    <tr style=\"text-align: right;\">\n      <th></th>\n      <th>Location</th>\n      <th>Lat</th>\n      <th>Lng</th>\n      <th>ParkPoint</th>\n    </tr>\n  </thead>\n  <tbody>\n    <tr>\n      <th>0</th>\n      <td>Charles Daley Park</td>\n      <td>43.181278</td>\n      <td>-79.324305</td>\n      <td>POINT (-79.32430 43.18128)</td>\n    </tr>\n  </tbody>\n</table>\n</div>"
     },
     "metadata": {},
     "execution_count": 97
    }
   ],
   "source": [
    "# check fields in park_point and cut out everything but geo field\n",
    "park_data = park_data.rename(columns={'geometry':'ParkPoint'})\n",
    "park_data.head()"
   ]
  },
  {
   "cell_type": "code",
   "execution_count": 95,
   "metadata": {
    "tags": []
   },
   "outputs": [
    {
     "output_type": "execute_result",
     "data": {
      "text/plain": [
       "   LONGITUDE   LATITUDE                         geometry POSTALCODE    PRCDDA  \\\n",
       "0 -79.476374  43.165850  MULTIPOINT (-79.47637 43.16585)     L0R1B0  35260299   \n",
       "1 -79.427708  43.197556  MULTIPOINT (-79.42771 43.19756)     L0R1B1  35260359   \n",
       "2 -79.453576  43.126399  MULTIPOINT (-79.45358 43.12640)     L0R1B2  35260357   \n",
       "3 -79.510882  43.189968  MULTIPOINT (-79.51088 43.18997)     L0R1B3  35260304   \n",
       "4 -79.476374  43.165850  MULTIPOINT (-79.47637 43.16585)     L0R1B4  35260299   \n",
       "\n",
       "   visitors  \n",
       "0         1  \n",
       "1         2  \n",
       "2         4  \n",
       "3         2  \n",
       "4         5  "
      ],
      "text/html": "<div>\n<style scoped>\n    .dataframe tbody tr th:only-of-type {\n        vertical-align: middle;\n    }\n\n    .dataframe tbody tr th {\n        vertical-align: top;\n    }\n\n    .dataframe thead th {\n        text-align: right;\n    }\n</style>\n<table border=\"1\" class=\"dataframe\">\n  <thead>\n    <tr style=\"text-align: right;\">\n      <th></th>\n      <th>LONGITUDE</th>\n      <th>LATITUDE</th>\n      <th>geometry</th>\n      <th>POSTALCODE</th>\n      <th>PRCDDA</th>\n      <th>visitors</th>\n    </tr>\n  </thead>\n  <tbody>\n    <tr>\n      <th>0</th>\n      <td>-79.476374</td>\n      <td>43.165850</td>\n      <td>MULTIPOINT (-79.47637 43.16585)</td>\n      <td>L0R1B0</td>\n      <td>35260299</td>\n      <td>1</td>\n    </tr>\n    <tr>\n      <th>1</th>\n      <td>-79.427708</td>\n      <td>43.197556</td>\n      <td>MULTIPOINT (-79.42771 43.19756)</td>\n      <td>L0R1B1</td>\n      <td>35260359</td>\n      <td>2</td>\n    </tr>\n    <tr>\n      <th>2</th>\n      <td>-79.453576</td>\n      <td>43.126399</td>\n      <td>MULTIPOINT (-79.45358 43.12640)</td>\n      <td>L0R1B2</td>\n      <td>35260357</td>\n      <td>4</td>\n    </tr>\n    <tr>\n      <th>3</th>\n      <td>-79.510882</td>\n      <td>43.189968</td>\n      <td>MULTIPOINT (-79.51088 43.18997)</td>\n      <td>L0R1B3</td>\n      <td>35260304</td>\n      <td>2</td>\n    </tr>\n    <tr>\n      <th>4</th>\n      <td>-79.476374</td>\n      <td>43.165850</td>\n      <td>MULTIPOINT (-79.47637 43.16585)</td>\n      <td>L0R1B4</td>\n      <td>35260299</td>\n      <td>5</td>\n    </tr>\n  </tbody>\n</table>\n</div>"
     },
     "metadata": {},
     "execution_count": 95
    }
   ],
   "source": [
    "import random\n",
    "\n",
    "# create field with int\n",
    "data['visitors'] = 1\n",
    "\n",
    "# assign random int 1-5 to each row\n",
    "for index, row in data.iterrows():\n",
    "    data.loc[index,'visitors'] = random.randint(1,5)\n",
    "\n",
    "data.head()"
   ]
  },
  {
   "cell_type": "code",
   "execution_count": null,
   "metadata": {},
   "outputs": [],
   "source": [
    "from geopy.distance import vincenty\n",
    "print(vincenty(x,y))"
   ]
  }
 ],
 "metadata": {
  "kernelspec": {
   "display_name": "Python 3",
   "language": "python",
   "name": "python3"
  },
  "language_info": {
   "codemirror_mode": {
    "name": "ipython",
    "version": 3
   },
   "file_extension": ".py",
   "mimetype": "text/x-python",
   "name": "python",
   "nbconvert_exporter": "python",
   "pygments_lexer": "ipython3",
   "version": "3.8.3-final"
  }
 },
 "nbformat": 4,
 "nbformat_minor": 2
}